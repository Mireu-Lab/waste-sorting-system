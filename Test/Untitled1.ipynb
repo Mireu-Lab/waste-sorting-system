{
 "cells": [
  {
   "cell_type": "code",
   "execution_count": null,
   "id": "7651d4cc-6d2b-4d5d-9bcf-7d5cb281a73d",
   "metadata": {},
   "outputs": [],
   "source": [
    "from datetime import datetime\n",
    "from pytz import timezone\n",
    "\n",
    "import qrcode\n",
    "import hashlib\n",
    "import json"
   ]
  },
  {
   "cell_type": "code",
   "execution_count": null,
   "id": "2da66e11-7923-40ea-b935-6d74c992bce0",
   "metadata": {},
   "outputs": [],
   "source": [
    "with open(\"../Data/Set.json\", \"r\") as setdata:\n",
    "    set_data = json.load(setdata)\n",
    "\n",
    "device_id = set_data[\"device\"][\"id\"]\n",
    "device_zone = set_data[\"device\"][\"zone\"]\n",
    "device_local = set_data[\"device\"][\"local\"]"
   ]
  },
  {
   "cell_type": "code",
   "execution_count": null,
   "id": "17a07969-d229-4130-8394-a505a816f9a3",
   "metadata": {},
   "outputs": [],
   "source": [
    "time = datetime.now(timezone(device_zone)).strftime('%Y/%m/%d-%H:%M:%S:%s')\n",
    "hashlib.sha224(f\"[{device_id}, {device_local}, {time}]\").hexdigest()\n",
    "\n",
    "print()"
   ]
  }
 ],
 "metadata": {
  "kernelspec": {
   "display_name": "Python 3 (ipykernel)",
   "language": "python",
   "name": "python3"
  },
  "language_info": {
   "codemirror_mode": {
    "name": "ipython",
    "version": 3
   },
   "file_extension": ".py",
   "mimetype": "text/x-python",
   "name": "python",
   "nbconvert_exporter": "python",
   "pygments_lexer": "ipython3",
   "version": "3.10.4"
  }
 },
 "nbformat": 4,
 "nbformat_minor": 5
}
