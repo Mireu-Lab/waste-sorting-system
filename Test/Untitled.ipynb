{
 "cells": [
  {
   "cell_type": "code",
   "execution_count": 13,
   "id": "734cd87d-cac6-44b8-9723-8032f4e018a8",
   "metadata": {},
   "outputs": [
    {
     "name": "stdout",
     "output_type": "stream",
     "text": [
      "Requirement already satisfied: qrcode[pil] in /usr/local/lib/python3.10/site-packages (7.3.1)\n",
      "Collecting pillow\n",
      "  Downloading Pillow-9.1.1-cp310-cp310-manylinux_2_17_x86_64.manylinux2014_x86_64.whl (3.1 MB)\n",
      "     |████████████████████████████████| 3.1 MB 2.6 MB/s            \n",
      "\u001b[?25hInstalling collected packages: pillow\n",
      "Successfully installed pillow-9.1.1\n",
      "\u001b[33mWARNING: Running pip as the 'root' user can result in broken permissions and conflicting behaviour with the system package manager. It is recommended to use a virtual environment instead: https://pip.pypa.io/warnings/venv\u001b[0m\n"
     ]
    }
   ],
   "source": [
    "!pip install qrcode[pil]"
   ]
  },
  {
   "cell_type": "code",
   "execution_count": 14,
   "id": "cdb90091-e8dd-45a2-9eaa-67893c1731bc",
   "metadata": {},
   "outputs": [],
   "source": [
    "import qrcode"
   ]
  },
  {
   "cell_type": "code",
   "execution_count": 15,
   "id": "bada430f-2f54-4820-80cf-fb96f2557564",
   "metadata": {},
   "outputs": [],
   "source": [
    "# Hello World! 로 QR 코드 생성\n",
    "img = qrcode.make('Hello World!')"
   ]
  },
  {
   "cell_type": "code",
   "execution_count": 16,
   "id": "002340e2-ef2d-46f2-aceb-3f882773fd59",
   "metadata": {},
   "outputs": [],
   "source": [
    "# 생성된 이미지를 helloworld_qrcode.png로 저장\n",
    "img.save('helloworld_qrcode.png')"
   ]
  },
  {
   "cell_type": "code",
   "execution_count": 27,
   "id": "f11207da-bf7e-4ecb-99f0-ac40be2766fa",
   "metadata": {},
   "outputs": [],
   "source": [
    "from datetime import datetime\n",
    "from pytz import timezone"
   ]
  },
  {
   "cell_type": "code",
   "execution_count": 35,
   "id": "52cb5e29-5073-4b27-b76b-4181bff781bb",
   "metadata": {},
   "outputs": [
    {
     "data": {
      "text/plain": [
       "'2022/06/14-03:23:30'"
      ]
     },
     "execution_count": 35,
     "metadata": {},
     "output_type": "execute_result"
    }
   ],
   "source": [
    "datetime.now(timezone('Asia/Seoul')).strftime('%Y/%m/%d-%H:%M:%S')\n"
   ]
  }
 ],
 "metadata": {
  "kernelspec": {
   "display_name": "Python 3 (ipykernel)",
   "language": "python",
   "name": "python3"
  },
  "language_info": {
   "codemirror_mode": {
    "name": "ipython",
    "version": 3
   },
   "file_extension": ".py",
   "mimetype": "text/x-python",
   "name": "python",
   "nbconvert_exporter": "python",
   "pygments_lexer": "ipython3",
   "version": "3.10.4"
  }
 },
 "nbformat": 4,
 "nbformat_minor": 5
}
